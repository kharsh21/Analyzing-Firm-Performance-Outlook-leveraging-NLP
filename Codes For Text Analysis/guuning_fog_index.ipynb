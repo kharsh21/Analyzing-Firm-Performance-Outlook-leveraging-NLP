{
 "cells": [
  {
   "cell_type": "code",
   "execution_count": null,
   "metadata": {},
   "outputs": [],
   "source": [
    "# import spacy\n",
    "# from textstat.textstat import textstatistics,legacy_round"
   ]
  },
  {
   "cell_type": "code",
   "execution_count": null,
   "metadata": {},
   "outputs": [],
   "source": [
    "import spacy\n",
    "# Splits the text into sentences, using\n",
    "# Spacy's sentence segmentation which can\n",
    "# be found at https://spacy.io/usage/spacy-101\n",
    "def break_sentences(text):\n",
    "    nlp = spacy.load('en_core_web_sm')\n",
    "    doc = nlp(text)\n",
    "    return list(doc.sents)"
   ]
  },
  {
   "cell_type": "code",
   "execution_count": null,
   "metadata": {},
   "outputs": [],
   "source": [
    "# A word is polysyllablic if it has more than 3 syllables\n",
    "# this functions returns the number of all such words\n",
    "# present in the text\n",
    "def poly_syllable_count(text):\n",
    "\tcount = 0\n",
    "\twords = []\n",
    "\tsentences = break_sentences(text)\n",
    "\tfor sentence in sentences:\n",
    "\t\twords += [token for token in sentence]\n",
    "\t\n",
    "\n",
    "\tfor word in words:\n",
    "\t\tsyllable_count = syllables_count(word)\n",
    "\t\tif syllable_count >= 3:\n",
    "\t\t\tcount += 1\n",
    "\treturn count"
   ]
  },
  {
   "cell_type": "code",
   "execution_count": null,
   "metadata": {},
   "outputs": [],
   "source": [
    "def flesch_reading_ease(text):\n",
    "\t\"\"\"\n",
    "\t\tImplements Flesch Formula:\n",
    "\t\tReading Ease score = 206.835 - (1.015 × ASL) - (84.6 × ASW)\n",
    "\t\tHere,\n",
    "\t\tASL = average sentence length (number of words\n",
    "\t\t\t\tdivided by number of sentences)\n",
    "\t\tASW = average word length in syllables (number of syllables\n",
    "\t\t\t\tdivided by number of words)\n",
    "\t\"\"\"\n",
    "\tFRE = 206.835 - float(1.015 * avg_sentence_length(text)) -\\\n",
    "\t\tfloat(84.6 * avg_syllables_per_word(text))\n",
    "\treturn legacy_round(FRE, 2)"
   ]
  },
  {
   "cell_type": "code",
   "execution_count": null,
   "metadata": {},
   "outputs": [],
   "source": [
    "def gunning_fog(text):\n",
    "\tper_diff_words = (difficult_words(text) / word_count(text) * 100) + 5\n",
    "\tgrade = 0.4 * (avg_sentence_length(text) + per_diff_words)\n",
    "\treturn grade"
   ]
  },
  {
   "cell_type": "code",
   "execution_count": null,
   "metadata": {},
   "outputs": [],
   "source": [
    "def smog_index(text):\n",
    "\t\"\"\"\n",
    "\t\tImplements SMOG Formula / Grading\n",
    "\t\tSMOG grading = 3 + ?polysyllable count.\n",
    "\t\tHere,\n",
    "\t\tpolysyllable count = number of words of more\n",
    "\t\tthan two syllables in a sample of 30 sentences.\n",
    "\t\"\"\"\n",
    "\n",
    "\tif sentence_count(text) >= 3:\n",
    "\t\tpoly_syllab = poly_syllable_count(text)\n",
    "\t\tSMOG = (1.043 * (30*(poly_syllab / sentence_count(text)))**0.5) \\\n",
    "\t\t\t\t+ 3.1291\n",
    "\t\treturn legacy_round(SMOG, 1)\n",
    "\telse:\n",
    "\t\treturn 0"
   ]
  }
 ],
 "metadata": {
  "kernelspec": {
   "display_name": "Python 3",
   "language": "python",
   "name": "python3"
  },
  "language_info": {
   "name": "python",
   "version": "3.9.7"
  },
  "orig_nbformat": 4
 },
 "nbformat": 4,
 "nbformat_minor": 2
}
