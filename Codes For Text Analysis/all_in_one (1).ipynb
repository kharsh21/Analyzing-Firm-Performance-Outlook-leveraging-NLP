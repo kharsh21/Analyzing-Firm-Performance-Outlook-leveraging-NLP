{
 "cells": [
  {
   "cell_type": "code",
   "execution_count": 10,
   "metadata": {},
   "outputs": [],
   "source": [
    "# import re"
   ]
  },
  {
   "cell_type": "code",
   "execution_count": null,
   "metadata": {},
   "outputs": [],
   "source": [
    "\n",
    "# def calculate_readability(text):\n",
    "    # Preprocessing\n",
    "    text = text.lower()\n",
    "    text = re.sub(r'\\W+', ' ', text)\n",
    "    words = text.split()\n",
    "    num_chars = len(text)\n",
    "    num_words = len(words)\n",
    "    num_sentences = text.count('.') + text.count('!') + text.count('?')\n",
    "    num_syllables = 0\n",
    "\n",
    "    # Counting syllables\n",
    "    for word in words:\n",
    "        word = word.strip(\".:;?!\")\n",
    "        if re.search(r\"^[aeiouy]+\", word):\n",
    "            num_syllables += 1\n",
    "        for i in range(1, len(word)):\n",
    "            if re.search(r\"^[^aeiouy]+[aeiouy]+[^aeiouy]+$\", word[i-1:i+1]):\n",
    "                num_syllables += 1\n",
    "            elif i == len(word) - 1 and re.search(r\"[aiouy]+$\", word[i]):\n",
    "                num_syllables += 1\n",
    "\n",
    "    # Calculating readability measures\n",
    "    # flesch_reading_ease = 206.835 - 1.015 * (num_words / num_sentences) - 84.6 * (num_syllables / num_words)\n",
    "    # flesch_kincaid_grade_level = 0.39 * (num_words / num_sentences) + 11.8 * (num_syllables / num_words) - 15.59\n",
    "    gunning_fog_index = 0.4 * ((num_words / num_sentences) + 100 * (num_complex_words / num_words))\n",
    "    smog_index = 1.043 * (30 * (num_complex_words / num_sentences) ** 0.5 + 3.1291)\n",
    "    ari = 4.71 * (num_chars / num_words) + 0.5 * (num_words / num_sentences) - 21.43\n",
    "    cl_index = 0.0588 * (num_chars / num_words * 100) - 0.296 * (num_sentences / num_words * 100) - 15.8\n",
    "    forecast = 20 - ((num_syllables / num_words) * 0.4 + (num_words / num_sentences) * 11.8)\n",
    "\n",
    "    # Counting complex words\n",
    "    complex_words = []\n",
    "    for word in words:\n",
    "        if len(word) > 2 and word not in complex_words:\n",
    "            syllables = 0\n",
    "            for c in word:\n",
    "                if c in 'aeiouy':\n",
    "                    syllables += 1\n",
    "            if syllables > 2:\n",
    "                complex_words.append(word)\n",
    "    num_complex_words = len(complex_words)\n",
    "\n",
    "    # # Counting sentence beginnings\n",
    "    # sentence_beginnings = Counter(re.findall(r\"\\b\\w\", text))\n",
    "\n",
    "    # Outputting results\n",
    "    print(\"Number of characters:\", num_chars)\n",
    "    print(\"Number of words:\", num_words)\n",
    "    print(\"Number of sentences:\", num_sentences)\n",
    "    print(\"Number of syllables:\", num_syllables)\n",
    "    print(\"Number of complex words:\", num_complex_words)\n",
    "    # print(\"Flesch Reading Ease:\", flesch_reading_ease)\n",
    "    # print(\"Flesch-Kincaid Grade Level:\", flesch_kincaid_grade_level)\n",
    "    print(\"Gunning Fog Index:\", gunning_fog_index)\n"
   ]
  },
  {
   "cell_type": "code",
   "execution_count": null,
   "metadata": {},
   "outputs": [],
   "source": [
    "# with open('2022.txt','r',encoding=\"utf8\") as file:\n",
    "#     score_2022 = file.read()\n",
    "# print(calculate_readability(score_2022))"
   ]
  },
  {
   "cell_type": "code",
   "execution_count": 12,
   "metadata": {},
   "outputs": [
    {
     "name": "stdout",
     "output_type": "stream",
     "text": [
      "Defaulting to user installation because normal site-packages is not writeable\n",
      "Requirement already satisfied: textstat in c:\\users\\hp\\appdata\\roaming\\python\\python39\\site-packages (0.7.3)\n",
      "Requirement already satisfied: pyphen in c:\\users\\hp\\appdata\\roaming\\python\\python39\\site-packages (from textstat) (0.14.0)\n"
     ]
    }
   ],
   "source": [
    "!pip install textstat"
   ]
  },
  {
   "cell_type": "code",
   "execution_count": 15,
   "metadata": {},
   "outputs": [
    {
     "name": "stdout",
     "output_type": "stream",
     "text": [
      "The scores Of the year 2022 MD&A AdaniEnt Report is: \n",
      "Flesch Reading Ease Score: 57.47\n",
      "Flesch-Kincaid Grade Level: 8.7\n",
      "Gunning Fog Index: 7.2\n",
      "SMOG Index: 11.9\n",
      "Automated Readability Index (ARI): 10.8\n",
      "Coleman-Liau Index: 11.88\n",
      "Linsear Write Formula: 7.75\n"
     ]
    }
   ],
   "source": [
    "import textstat\n",
    "\n",
    "# Read the text file\n",
    "with open('2022.txt', 'r') as file:\n",
    "    text = file.read()\n",
    "\n",
    "# Calculate the Flesch Reading Ease score\n",
    "flesch_score = textstat.flesch_reading_ease(text)\n",
    "\n",
    "# Calculate the Flesch-Kincaid Grade Level\n",
    "fk_grade_level = textstat.flesch_kincaid_grade(text)\n",
    "\n",
    "# Calculate the Gunning Fog Index\n",
    "gunning_fog_index = textstat.gunning_fog(text)\n",
    "\n",
    "# Calculate the SMOG Index\n",
    "smog_index = textstat.smog_index(text)\n",
    "\n",
    "# Calculate the Automated Readability Index (ARI)\n",
    "ari_score = textstat.automated_readability_index(text)\n",
    "\n",
    "# Calculate the Coleman-Liau Index\n",
    "coleman_liau_index = textstat.coleman_liau_index(text)\n",
    "\n",
    "# Calculate the Linsear Write Formula\n",
    "linsear_write_formula = textstat.linsear_write_formula(text)\n",
    "\n",
    "# Print the scores\n",
    "print(\"The scores Of the year 2022 MD&A AdaniEnt Report is: \")\n",
    "print('Flesch Reading Ease Score:', flesch_score)\n",
    "print('Flesch-Kincaid Grade Level:', fk_grade_level)\n",
    "print('Gunning Fog Index:', gunning_fog_index)\n",
    "print('SMOG Index:', smog_index)\n",
    "print('Automated Readability Index (ARI):', ari_score)\n",
    "print('Coleman-Liau Index:', coleman_liau_index)\n",
    "print('Linsear Write Formula:', linsear_write_formula)\n"
   ]
  }
 ],
 "metadata": {
  "kernelspec": {
   "display_name": "Python 3",
   "language": "python",
   "name": "python3"
  },
  "language_info": {
   "codemirror_mode": {
    "name": "ipython",
    "version": 3
   },
   "file_extension": ".py",
   "mimetype": "text/x-python",
   "name": "python",
   "nbconvert_exporter": "python",
   "pygments_lexer": "ipython3",
   "version": "3.9.7"
  },
  "orig_nbformat": 4
 },
 "nbformat": 4,
 "nbformat_minor": 2
}
