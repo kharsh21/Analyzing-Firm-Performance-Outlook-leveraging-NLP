{
 "cells": [
  {
   "cell_type": "code",
   "execution_count": 8,
   "metadata": {},
   "outputs": [],
   "source": [
    "def flesch_kincaid_index(text):\n",
    "    # Count the number of words and sentences in the text\n",
    "    word_count = len(text.split())\n",
    "    sentence_count = len(text.split('.'))\n",
    "    \n",
    "    # Count the number of syllables in each word\n",
    "    syllable_count = 0\n",
    "    for word in text.split():\n",
    "        syllable_count += count_syllables(word)\n",
    "    \n",
    "    # Calculate the index using the formula\n",
    "    index = 0.39 * (word_count / sentence_count) + 11.8 * (syllable_count / word_count) - 15.59\n",
    "    \n",
    "    # Round the index to the nearest integer and return it\n",
    "    return round(index)\n",
    "    \n",
    "def count_syllables(word):\n",
    "    # Count the number of syllables in a word using a simple heuristic\n",
    "    vowels = \"aeiouy\"\n",
    "    syllables = 0\n",
    "    for i in range(len(word)):\n",
    "        if i == 0 and word[i] in vowels:\n",
    "            syllables += 1\n",
    "        elif word[i] in vowels and word[i-1] not in vowels:\n",
    "            syllables += 1\n",
    "    if word.endswith(\"e\"):\n",
    "        syllables -= 1\n",
    "    if word.endswith(\"le\") and len(word) > 2 and word[-3] not in vowels:\n",
    "        syllables += 1\n",
    "    if syllables == 0:\n",
    "        syllables = 1\n",
    "    return syllables\n"
   ]
  },
  {
   "cell_type": "code",
   "execution_count": 9,
   "metadata": {},
   "outputs": [
    {
     "name": "stdout",
     "output_type": "stream",
     "text": [
      "2\n"
     ]
    }
   ],
   "source": [
    "text = \"The quick brown fox jumped over the lazy dog.\"\n",
    "index = flesch_kincaid_index(text)\n",
    "print(index)\n"
   ]
  },
  {
   "cell_type": "code",
   "execution_count": 10,
   "metadata": {},
   "outputs": [
    {
     "name": "stdout",
     "output_type": "stream",
     "text": [
      "5\n"
     ]
    }
   ],
   "source": [
    "with open('ari.txt','r') as file:\n",
    "    text = file.read()\n",
    "print(flesch_kincaid_index(text))"
   ]
  },
  {
   "cell_type": "code",
   "execution_count": 11,
   "metadata": {},
   "outputs": [],
   "source": [
    "# The lower the index, the more difficult the text is to read. The implementation uses a simple heuristic to count syllables, which may not be accurate in all cases."
   ]
  },
  {
   "cell_type": "code",
   "execution_count": 12,
   "metadata": {},
   "outputs": [
    {
     "name": "stdout",
     "output_type": "stream",
     "text": [
      "The FleshKinkid Index For the year 2022 OF AdaniEnt MD&A section is:  9\n"
     ]
    }
   ],
   "source": [
    "with open('2022.txt','r') as file:\n",
    "    score_2022 = file.read()\n",
    "print(\"The FleshKinkid Index For the year 2022 OF AdaniEnt MD&A section is: \",flesch_kincaid_index(score_2022))"
   ]
  },
  {
   "cell_type": "code",
   "execution_count": 16,
   "metadata": {},
   "outputs": [
    {
     "name": "stdout",
     "output_type": "stream",
     "text": [
      "The FleshKinkid Index For the year 2022 OF AdaniEnt MD&A section is:  13\n"
     ]
    }
   ],
   "source": [
    "with open('2021.txt','r',encoding=\"utf8\") as file:\n",
    "    score_2021 = file.read()\n",
    "print(\"The FleshKinkid Index For the year 2021 OF AdaniEnt MD&A section is: \",flesch_kincaid_index(score_2021))"
   ]
  },
  {
   "cell_type": "code",
   "execution_count": 17,
   "metadata": {},
   "outputs": [
    {
     "name": "stdout",
     "output_type": "stream",
     "text": [
      "The FleshKinkid Index For the year 2020 OF AdaniEnt MD&A section is:  13\n"
     ]
    }
   ],
   "source": [
    "with open('2020.txt','r',encoding=\"utf8\") as file:\n",
    "    score_2020 = file.read()\n",
    "print(\"The FleshKinkid Index For the year 2020 OF AdaniEnt MD&A section is: \",flesch_kincaid_index(score_2020))"
   ]
  }
 ],
 "metadata": {
  "kernelspec": {
   "display_name": "Python 3",
   "language": "python",
   "name": "python3"
  },
  "language_info": {
   "codemirror_mode": {
    "name": "ipython",
    "version": 3
   },
   "file_extension": ".py",
   "mimetype": "text/x-python",
   "name": "python",
   "nbconvert_exporter": "python",
   "pygments_lexer": "ipython3",
   "version": "3.9.7"
  },
  "orig_nbformat": 4
 },
 "nbformat": 4,
 "nbformat_minor": 2
}
