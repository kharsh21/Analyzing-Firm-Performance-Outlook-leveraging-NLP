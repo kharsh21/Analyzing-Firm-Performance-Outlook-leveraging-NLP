{
 "cells": [
  {
   "cell_type": "code",
   "execution_count": 7,
   "metadata": {},
   "outputs": [],
   "source": [
    "import re\n"
   ]
  },
  {
   "cell_type": "code",
   "execution_count": 8,
   "metadata": {},
   "outputs": [],
   "source": [
    "import re\n",
    "\n",
    "def ari(text):\n",
    "    # count the number of characters, words, and sentences in the text\n",
    "    characters = len(text)\n",
    "    words = len(re.findall(r'\\w+', text))\n",
    "    sentences = len(re.findall(r'[.!?]+', text))\n",
    "\n",
    "    # calculate the ARI using the formula\n",
    "    ari = 4.71 * (characters/words) + 0.5 * (words/sentences) - 21.43\n",
    "\n",
    "    # round the result to the nearest integer\n",
    "    ari = round(ari)\n",
    "\n",
    "    # return the ARI as an integer\n",
    "    return ari\n"
   ]
  },
  {
   "cell_type": "code",
   "execution_count": 9,
   "metadata": {},
   "outputs": [
    {
     "name": "stdout",
     "output_type": "stream",
     "text": [
      "9\n"
     ]
    }
   ],
   "source": [
    "# open the file and read its contents into a string variable\n",
    "with open('ari.txt', 'r') as f:\n",
    "    text = f.read()\n",
    "\n",
    "# calculate the ARI of the text and print the result\n",
    "print(ari(text))"
   ]
  }
 ],
 "metadata": {
  "kernelspec": {
   "display_name": "Python 3 (ipykernel)",
   "language": "python",
   "name": "python3"
  },
  "language_info": {
   "codemirror_mode": {
    "name": "ipython",
    "version": 3
   },
   "file_extension": ".py",
   "mimetype": "text/x-python",
   "name": "python",
   "nbconvert_exporter": "python",
   "pygments_lexer": "ipython3",
   "version": "3.10.5"
  }
 },
 "nbformat": 4,
 "nbformat_minor": 2
}
